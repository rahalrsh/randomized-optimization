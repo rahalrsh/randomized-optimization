{
 "cells": [
  {
   "cell_type": "code",
   "execution_count": 2,
   "id": "funded-original",
   "metadata": {},
   "outputs": [],
   "source": [
    "import mlrose_hiive as mlrose\n",
    "import numpy as np\n",
    "import pandas as pd\n",
    "import seaborn as sns\n",
    "import matplotlib.pyplot as plt\n",
    "\n",
    "import sklearn\n",
    "from sklearn.model_selection import train_test_split\n",
    "from sklearn.preprocessing import MinMaxScaler\n",
    "from sklearn.metrics import accuracy_score\n",
    "from sklearn.model_selection import cross_val_score\n",
    "\n",
    "import time"
   ]
  },
  {
   "cell_type": "code",
   "execution_count": null,
   "id": "broken-curve",
   "metadata": {},
   "outputs": [],
   "source": []
  },
  {
   "cell_type": "code",
   "execution_count": 4,
   "id": "matched-diameter",
   "metadata": {},
   "outputs": [],
   "source": [
    "%config Completer.use_jedi = False"
   ]
  },
  {
   "cell_type": "code",
   "execution_count": 5,
   "id": "private-georgia",
   "metadata": {},
   "outputs": [],
   "source": [
    "df = pd.read_csv(\"data/cancer/breast-cancer.csv\", index_col=\"id\")"
   ]
  },
  {
   "cell_type": "code",
   "execution_count": 6,
   "id": "virgin-monday",
   "metadata": {},
   "outputs": [],
   "source": [
    "df = df.drop(columns='Unnamed: 32')"
   ]
  },
  {
   "cell_type": "code",
   "execution_count": 7,
   "id": "signal-discrimination",
   "metadata": {},
   "outputs": [],
   "source": [
    "diagnosis_map = {'B':0, 'M':1}\n",
    "df['diagnosis'] = df['diagnosis'].map(diagnosis_map)"
   ]
  },
  {
   "cell_type": "code",
   "execution_count": 8,
   "id": "academic-volunteer",
   "metadata": {},
   "outputs": [
    {
     "data": {
      "text/plain": [
       "(569, 31)"
      ]
     },
     "execution_count": 8,
     "metadata": {},
     "output_type": "execute_result"
    }
   ],
   "source": [
    "df.shape"
   ]
  },
  {
   "cell_type": "markdown",
   "id": "tropical-fellowship",
   "metadata": {},
   "source": [
    "### Split data"
   ]
  },
  {
   "cell_type": "code",
   "execution_count": 9,
   "id": "charged-reputation",
   "metadata": {},
   "outputs": [
    {
     "name": "stdout",
     "output_type": "stream",
     "text": [
      "train set size: (398, 30)\n",
      "test set size: (171, 30)\n"
     ]
    }
   ],
   "source": [
    "x = df.drop(columns=['diagnosis'])\n",
    "y = df['diagnosis']\n",
    "\n",
    "x_train, x_test, y_train, y_test = train_test_split(x, y, test_size=0.3, random_state=52)\n",
    "\n",
    "print(f\"train set size: {x_train.shape}\")\n",
    "print(f\"test set size: {x_test.shape}\")"
   ]
  },
  {
   "cell_type": "code",
   "execution_count": null,
   "id": "guided-dublin",
   "metadata": {},
   "outputs": [],
   "source": []
  },
  {
   "cell_type": "markdown",
   "id": "familiar-mouse",
   "metadata": {},
   "source": [
    "### Scale"
   ]
  },
  {
   "cell_type": "code",
   "execution_count": 10,
   "id": "soviet-strain",
   "metadata": {},
   "outputs": [
    {
     "name": "stdout",
     "output_type": "stream",
     "text": [
      "0.0\n",
      "1.0000000000000002\n"
     ]
    }
   ],
   "source": [
    "mm_scaler = MinMaxScaler()\n",
    "\n",
    "x_train_mm = mm_scaler.fit_transform(x_train)\n",
    "x_test_mm = mm_scaler.fit_transform(x_test)\n",
    "\n",
    "print(np.min(x_train_mm))\n",
    "print(np.max(x_train_mm))"
   ]
  },
  {
   "cell_type": "code",
   "execution_count": null,
   "id": "respiratory-myanmar",
   "metadata": {},
   "outputs": [],
   "source": []
  },
  {
   "cell_type": "code",
   "execution_count": null,
   "id": "phantom-tooth",
   "metadata": {},
   "outputs": [],
   "source": []
  },
  {
   "cell_type": "code",
   "execution_count": null,
   "id": "gorgeous-private",
   "metadata": {},
   "outputs": [],
   "source": []
  },
  {
   "cell_type": "markdown",
   "id": "physical-palestinian",
   "metadata": {},
   "source": [
    "### Gradient Descent"
   ]
  },
  {
   "cell_type": "code",
   "execution_count": null,
   "id": "accepting-death",
   "metadata": {},
   "outputs": [],
   "source": []
  },
  {
   "cell_type": "code",
   "execution_count": 14,
   "id": "attractive-pixel",
   "metadata": {},
   "outputs": [],
   "source": [
    "def run_gd(X, y, epoch_range):\n",
    "    # epoch, train score, train time\n",
    "    data = []\n",
    "    \n",
    "    for epoch in epoch_range:\n",
    "        if str(type(epoch)) == str(np.int64):\n",
    "            epoch = int(epoch)\n",
    "\n",
    "        nn_model = mlrose.NeuralNetwork(\n",
    "            hidden_nodes=[12, 12],\n",
    "            activation='relu',\n",
    "            algorithm='gradient_descent',\n",
    "            max_iters=epoch,\n",
    "            bias=True,\n",
    "            is_classifier=True,\n",
    "            learning_rate=0.006,\n",
    "            early_stopping=True,\n",
    "            clip_max=1,\n",
    "            max_attempts=100,\n",
    "            random_state=52\n",
    "        )\n",
    "        ts = time.time()\n",
    "        \n",
    "        nn_model.fit(X, y)\n",
    "    \n",
    "        te = time.time()\n",
    "        \n",
    "        train_score= nn_model.score(X, y)\n",
    "        \n",
    "        row = [epoch, train_score, (te-ts)]\n",
    "        data.append(row)\n",
    "        \n",
    "    df = pd.DataFrame(data, columns=['Epoch', 'Train_Score', 'Train_Time'])\n",
    "    return df\n",
    "    "
   ]
  },
  {
   "cell_type": "code",
   "execution_count": null,
   "id": "planned-dollar",
   "metadata": {},
   "outputs": [],
   "source": []
  },
  {
   "cell_type": "code",
   "execution_count": 15,
   "id": "russian-partition",
   "metadata": {},
   "outputs": [],
   "source": [
    "epoch_range = 2 ** np.arange(10)\n",
    "\n",
    "gd = run_gd(x_train_mm, y_train, epoch_range=epoch_range)"
   ]
  },
  {
   "cell_type": "code",
   "execution_count": 16,
   "id": "complete-competition",
   "metadata": {},
   "outputs": [
    {
     "data": {
      "text/html": [
       "<div>\n",
       "<style scoped>\n",
       "    .dataframe tbody tr th:only-of-type {\n",
       "        vertical-align: middle;\n",
       "    }\n",
       "\n",
       "    .dataframe tbody tr th {\n",
       "        vertical-align: top;\n",
       "    }\n",
       "\n",
       "    .dataframe thead th {\n",
       "        text-align: right;\n",
       "    }\n",
       "</style>\n",
       "<table border=\"1\" class=\"dataframe\">\n",
       "  <thead>\n",
       "    <tr style=\"text-align: right;\">\n",
       "      <th></th>\n",
       "      <th>Epoch</th>\n",
       "      <th>Train_Score</th>\n",
       "      <th>Train_Time</th>\n",
       "    </tr>\n",
       "  </thead>\n",
       "  <tbody>\n",
       "    <tr>\n",
       "      <th>0</th>\n",
       "      <td>1</td>\n",
       "      <td>0.517588</td>\n",
       "      <td>0.027468</td>\n",
       "    </tr>\n",
       "    <tr>\n",
       "      <th>1</th>\n",
       "      <td>2</td>\n",
       "      <td>0.517588</td>\n",
       "      <td>0.010797</td>\n",
       "    </tr>\n",
       "    <tr>\n",
       "      <th>2</th>\n",
       "      <td>4</td>\n",
       "      <td>0.530151</td>\n",
       "      <td>0.029498</td>\n",
       "    </tr>\n",
       "    <tr>\n",
       "      <th>3</th>\n",
       "      <td>8</td>\n",
       "      <td>0.633166</td>\n",
       "      <td>0.062727</td>\n",
       "    </tr>\n",
       "    <tr>\n",
       "      <th>4</th>\n",
       "      <td>16</td>\n",
       "      <td>0.731156</td>\n",
       "      <td>0.058222</td>\n",
       "    </tr>\n",
       "    <tr>\n",
       "      <th>5</th>\n",
       "      <td>32</td>\n",
       "      <td>0.869347</td>\n",
       "      <td>0.083027</td>\n",
       "    </tr>\n",
       "    <tr>\n",
       "      <th>6</th>\n",
       "      <td>64</td>\n",
       "      <td>0.899497</td>\n",
       "      <td>0.188797</td>\n",
       "    </tr>\n",
       "    <tr>\n",
       "      <th>7</th>\n",
       "      <td>128</td>\n",
       "      <td>0.932161</td>\n",
       "      <td>0.434459</td>\n",
       "    </tr>\n",
       "    <tr>\n",
       "      <th>8</th>\n",
       "      <td>256</td>\n",
       "      <td>0.942211</td>\n",
       "      <td>0.934598</td>\n",
       "    </tr>\n",
       "    <tr>\n",
       "      <th>9</th>\n",
       "      <td>512</td>\n",
       "      <td>0.924623</td>\n",
       "      <td>1.833495</td>\n",
       "    </tr>\n",
       "  </tbody>\n",
       "</table>\n",
       "</div>"
      ],
      "text/plain": [
       "   Epoch  Train_Score  Train_Time\n",
       "0      1     0.517588    0.027468\n",
       "1      2     0.517588    0.010797\n",
       "2      4     0.530151    0.029498\n",
       "3      8     0.633166    0.062727\n",
       "4     16     0.731156    0.058222\n",
       "5     32     0.869347    0.083027\n",
       "6     64     0.899497    0.188797\n",
       "7    128     0.932161    0.434459\n",
       "8    256     0.942211    0.934598\n",
       "9    512     0.924623    1.833495"
      ]
     },
     "execution_count": 16,
     "metadata": {},
     "output_type": "execute_result"
    }
   ],
   "source": [
    "gd"
   ]
  },
  {
   "cell_type": "code",
   "execution_count": 38,
   "id": "charged-validity",
   "metadata": {},
   "outputs": [
    {
     "data": {
      "image/png": "[encoded data removed]",
      "text/plain": [
       "<Figure size 432x288 with 1 Axes>"
      ]
     },
     "metadata": {
      "needs_background": "light"
     },
     "output_type": "display_data"
    }
   ],
   "source": [
    "plt.title(\"Score vs Iterations\")\n",
    "plt.xlabel(\"Iterations\")\n",
    "plt.ylabel(\"Score\") \n",
    "\n",
    "plt.plot(gd[\"Epoch\"], gd[\"Train_Score\"], label=\"Training Score\", color =\"green\")\n",
    "\n",
    "plt.legend()\n",
    "plt.grid()\n",
    "plt.savefig('images/nn/1_gd.png')\n",
    "plt.show()"
   ]
  },
  {
   "cell_type": "code",
   "execution_count": 39,
   "id": "cosmetic-qualification",
   "metadata": {},
   "outputs": [
    {
     "data": {
      "image/png": "[encoded data removed]",
      "text/plain": [
       "<Figure size 432x288 with 1 Axes>"
      ]
     },
     "metadata": {
      "needs_background": "light"
     },
     "output_type": "display_data"
    }
   ],
   "source": [
    "plt.title(\"Time vs Iterations\")\n",
    "plt.xlabel(\"Iterations\")\n",
    "plt.ylabel(\"Time (Seconds)\") \n",
    "\n",
    "plt.plot(gd[\"Epoch\"], gd[\"Train_Time\"], label=\"Training Time\", color =\"blue\")\n",
    "\n",
    "plt.legend()\n",
    "plt.grid()\n",
    "plt.savefig('images/nn/2_gd.png')\n",
    "plt.show()"
   ]
  },
  {
   "cell_type": "markdown",
   "id": "tropical-ballot",
   "metadata": {},
   "source": [
    "### RHC Algo (Random Hill Climb )"
   ]
  },
  {
   "cell_type": "code",
   "execution_count": 40,
   "id": "sticky-wedding",
   "metadata": {},
   "outputs": [],
   "source": [
    "def run_rhc(X,y, epoch_range):\n",
    "    # epoch, train score, train time\n",
    "    data = []\n",
    "    \n",
    "    for epoch in epoch_range:\n",
    "        if str(type(epoch)) == str(np.int64):\n",
    "            epoch = int(epoch)\n",
    "        \n",
    "        nn_model = mlrose.NeuralNetwork(\n",
    "            hidden_nodes=[12, 12],\n",
    "            activation='relu',\n",
    "            algorithm='random_hill_climb',\n",
    "            max_iters=epoch,\n",
    "            bias=True,\n",
    "            is_classifier=True,\n",
    "            learning_rate=0.006,\n",
    "            early_stopping=True,\n",
    "            clip_max=1,\n",
    "            max_attempts=100,\n",
    "            random_state=52\n",
    "        )\n",
    "        ts = time.time()\n",
    "        \n",
    "        nn_model.fit(X, y)\n",
    "    \n",
    "        te = time.time()\n",
    "        \n",
    "        train_score= nn_model.score(X, y)\n",
    "        \n",
    "        row = [epoch, train_score, (te-ts)]\n",
    "        data.append(row)\n",
    "        \n",
    "    df = pd.DataFrame(data, columns=['Epoch', 'Train_Score', 'Train_Time'])\n",
    "    return df"
   ]
  },
  {
   "cell_type": "code",
   "execution_count": 30,
   "id": "copyrighted-desperate",
   "metadata": {},
   "outputs": [],
   "source": [
    "epoch_range = 2 ** np.arange(15)\n",
    "\n",
    "rhc = run_rhc(x_train_mm, y_train, epoch_range=epoch_range)"
   ]
  },
  {
   "cell_type": "code",
   "execution_count": null,
   "id": "convinced-mathematics",
   "metadata": {},
   "outputs": [],
   "source": []
  },
  {
   "cell_type": "code",
   "execution_count": 31,
   "id": "involved-geneva",
   "metadata": {},
   "outputs": [
    {
     "data": {
      "text/html": [
       "<div>\n",
       "<style scoped>\n",
       "    .dataframe tbody tr th:only-of-type {\n",
       "        vertical-align: middle;\n",
       "    }\n",
       "\n",
       "    .dataframe tbody tr th {\n",
       "        vertical-align: top;\n",
       "    }\n",
       "\n",
       "    .dataframe thead th {\n",
       "        text-align: right;\n",
       "    }\n",
       "</style>\n",
       "<table border=\"1\" class=\"dataframe\">\n",
       "  <thead>\n",
       "    <tr style=\"text-align: right;\">\n",
       "      <th></th>\n",
       "      <th>Epoch</th>\n",
       "      <th>Train_Score</th>\n",
       "      <th>Train_Time</th>\n",
       "    </tr>\n",
       "  </thead>\n",
       "  <tbody>\n",
       "    <tr>\n",
       "      <th>0</th>\n",
       "      <td>1</td>\n",
       "      <td>0.517588</td>\n",
       "      <td>0.011124</td>\n",
       "    </tr>\n",
       "    <tr>\n",
       "      <th>1</th>\n",
       "      <td>2</td>\n",
       "      <td>0.517588</td>\n",
       "      <td>0.009556</td>\n",
       "    </tr>\n",
       "    <tr>\n",
       "      <th>2</th>\n",
       "      <td>4</td>\n",
       "      <td>0.517588</td>\n",
       "      <td>0.017515</td>\n",
       "    </tr>\n",
       "    <tr>\n",
       "      <th>3</th>\n",
       "      <td>8</td>\n",
       "      <td>0.517588</td>\n",
       "      <td>0.033704</td>\n",
       "    </tr>\n",
       "    <tr>\n",
       "      <th>4</th>\n",
       "      <td>16</td>\n",
       "      <td>0.517588</td>\n",
       "      <td>0.037843</td>\n",
       "    </tr>\n",
       "    <tr>\n",
       "      <th>5</th>\n",
       "      <td>32</td>\n",
       "      <td>0.517588</td>\n",
       "      <td>0.054964</td>\n",
       "    </tr>\n",
       "    <tr>\n",
       "      <th>6</th>\n",
       "      <td>64</td>\n",
       "      <td>0.517588</td>\n",
       "      <td>0.102669</td>\n",
       "    </tr>\n",
       "    <tr>\n",
       "      <th>7</th>\n",
       "      <td>128</td>\n",
       "      <td>0.525126</td>\n",
       "      <td>0.201135</td>\n",
       "    </tr>\n",
       "    <tr>\n",
       "      <th>8</th>\n",
       "      <td>256</td>\n",
       "      <td>0.537688</td>\n",
       "      <td>0.406812</td>\n",
       "    </tr>\n",
       "    <tr>\n",
       "      <th>9</th>\n",
       "      <td>512</td>\n",
       "      <td>0.562814</td>\n",
       "      <td>1.090807</td>\n",
       "    </tr>\n",
       "    <tr>\n",
       "      <th>10</th>\n",
       "      <td>1024</td>\n",
       "      <td>0.623116</td>\n",
       "      <td>1.975380</td>\n",
       "    </tr>\n",
       "    <tr>\n",
       "      <th>11</th>\n",
       "      <td>2048</td>\n",
       "      <td>0.733668</td>\n",
       "      <td>4.056496</td>\n",
       "    </tr>\n",
       "    <tr>\n",
       "      <th>12</th>\n",
       "      <td>4096</td>\n",
       "      <td>0.814070</td>\n",
       "      <td>9.276542</td>\n",
       "    </tr>\n",
       "    <tr>\n",
       "      <th>13</th>\n",
       "      <td>8192</td>\n",
       "      <td>0.896985</td>\n",
       "      <td>21.394911</td>\n",
       "    </tr>\n",
       "    <tr>\n",
       "      <th>14</th>\n",
       "      <td>16384</td>\n",
       "      <td>0.939698</td>\n",
       "      <td>37.665653</td>\n",
       "    </tr>\n",
       "  </tbody>\n",
       "</table>\n",
       "</div>"
      ],
      "text/plain": [
       "    Epoch  Train_Score  Train_Time\n",
       "0       1     0.517588    0.011124\n",
       "1       2     0.517588    0.009556\n",
       "2       4     0.517588    0.017515\n",
       "3       8     0.517588    0.033704\n",
       "4      16     0.517588    0.037843\n",
       "5      32     0.517588    0.054964\n",
       "6      64     0.517588    0.102669\n",
       "7     128     0.525126    0.201135\n",
       "8     256     0.537688    0.406812\n",
       "9     512     0.562814    1.090807\n",
       "10   1024     0.623116    1.975380\n",
       "11   2048     0.733668    4.056496\n",
       "12   4096     0.814070    9.276542\n",
       "13   8192     0.896985   21.394911\n",
       "14  16384     0.939698   37.665653"
      ]
     },
     "execution_count": 31,
     "metadata": {},
     "output_type": "execute_result"
    }
   ],
   "source": [
    "rhc"
   ]
  },
  {
   "cell_type": "code",
   "execution_count": 41,
   "id": "digital-freedom",
   "metadata": {},
   "outputs": [
    {
     "data": {
      "image/png": "[encoded data removed]",
      "text/plain": [
       "<Figure size 432x288 with 1 Axes>"
      ]
     },
     "metadata": {
      "needs_background": "light"
     },
     "output_type": "display_data"
    }
   ],
   "source": [
    "plt.title(\"RHC - Score vs Iterations\")\n",
    "plt.xlabel(\"Iterations\")\n",
    "plt.ylabel(\"Score\") \n",
    "\n",
    "plt.plot(rhc[\"Epoch\"], rhc[\"Train_Score\"], label=\"Training Score\", color =\"green\")\n",
    "\n",
    "plt.legend()\n",
    "plt.grid()\n",
    "plt.savefig('images/nn/2_sa.png')\n",
    "plt.show()"
   ]
  },
  {
   "cell_type": "code",
   "execution_count": 44,
   "id": "documented-system",
   "metadata": {},
   "outputs": [
    {
     "data": {
      "image/png": "[encoded data removed]",
      "text/plain": [
       "<Figure size 432x288 with 1 Axes>"
      ]
     },
     "metadata": {
      "needs_background": "light"
     },
     "output_type": "display_data"
    }
   ],
   "source": [
    "plt.title(\"RHC - Time vs Iterations\")\n",
    "plt.xlabel(\"Iterations\")\n",
    "plt.ylabel(\"Time (Seconds)\") \n",
    "\n",
    "plt.plot(rhc[\"Epoch\"], rhc[\"Train_Time\"], label=\"Training Time\", color =\"blue\")\n",
    "\n",
    "plt.legend()\n",
    "plt.grid()\n",
    "plt.savefig('images/nn/3_sa.png')\n",
    "plt.show()"
   ]
  },
  {
   "cell_type": "code",
   "execution_count": null,
   "id": "humanitarian-projection",
   "metadata": {},
   "outputs": [],
   "source": []
  },
  {
   "cell_type": "code",
   "execution_count": null,
   "id": "worst-graduation",
   "metadata": {},
   "outputs": [],
   "source": []
  },
  {
   "cell_type": "markdown",
   "id": "hidden-wichita",
   "metadata": {},
   "source": [
    "### SA Algo (Simulated Annealing)"
   ]
  },
  {
   "cell_type": "code",
   "execution_count": 47,
   "id": "regional-serial",
   "metadata": {},
   "outputs": [],
   "source": [
    "def run_sa(X,y, epoch_range, schedule=None):\n",
    "    if not schedule:\n",
    "        print(\"ERROR: Please provide a schedule ex:mlrose_hiive.GeomDecay()\")\n",
    "        return\n",
    "    \n",
    "    # epoch, train score, train time\n",
    "    data = []\n",
    "    \n",
    "    for epoch in epoch_range:\n",
    "        if str(type(epoch)) == str(np.int64):\n",
    "            epoch = int(epoch)\n",
    "        nn_model = mlrose.NeuralNetwork(\n",
    "            hidden_nodes=[12, 12],\n",
    "            activation='relu',\n",
    "            algorithm='simulated_annealing',\n",
    "            max_iters=epoch,\n",
    "            bias=True,\n",
    "            is_classifier=True,\n",
    "            learning_rate=0.006,\n",
    "            early_stopping=True,\n",
    "            clip_max=1,\n",
    "            max_attempts=100,\n",
    "            random_state=52,\n",
    "            schedule=schedule\n",
    "        )\n",
    "        ts = time.time()\n",
    "        \n",
    "        nn_model.fit(X, y)\n",
    "    \n",
    "        te = time.time()\n",
    "        \n",
    "        train_score= nn_model.score(X, y)\n",
    "        \n",
    "        row = [epoch, train_score, (te-ts)]\n",
    "        data.append(row)\n",
    "        \n",
    "    df = pd.DataFrame(data, columns=['Epoch', 'Train_Score', 'Train_Time'])\n",
    "    return df"
   ]
  },
  {
   "cell_type": "code",
   "execution_count": 48,
   "id": "combined-spice",
   "metadata": {},
   "outputs": [
    {
     "data": {
      "text/plain": [
       "array([    1,     2,     4,     8,    16,    32,    64,   128,   256,\n",
       "         512,  1024,  2048,  4096,  8192, 16384, 25000, 35000, 45000,\n",
       "       55000, 65000])"
      ]
     },
     "execution_count": 48,
     "metadata": {},
     "output_type": "execute_result"
    }
   ],
   "source": [
    "SA_TRAINIG_RANGE = np.array([1, 2, 4, 8, 16, 32, 64, 128, 256, 512, 1024, 2048, 4096, 8192, 16384, 25000, 35000, 45000, 55000, 65000])\n",
    "SA_TRAINIG_RANGE"
   ]
  },
  {
   "cell_type": "code",
   "execution_count": 49,
   "id": "several-compound",
   "metadata": {},
   "outputs": [],
   "source": [
    "# schedule = mlrose.GeomDecay(init_temp=100000, decay=0.99)\n",
    "# sa_te5_d96 = run_sa(x_train_mm, y_train, epoch_range=SA_TRAINIG_RANGE, schedule=schedule)"
   ]
  },
  {
   "cell_type": "code",
   "execution_count": 50,
   "id": "adaptive-reproduction",
   "metadata": {},
   "outputs": [],
   "source": [
    "# schedule = mlrose.GeomDecay(init_temp=1000, decay=0.99)\n",
    "# sa_te3_d96 = run_sa(x_train_mm, y_train, epoch_range=SA_TRAINIG_RANGE, schedule=schedule)"
   ]
  },
  {
   "cell_type": "code",
   "execution_count": 51,
   "id": "robust-sodium",
   "metadata": {},
   "outputs": [],
   "source": [
    "schedule = mlrose.GeomDecay(init_temp=100000, decay=0.90)\n",
    "sa_te5_d90 = run_sa(x_train_mm, y_train, epoch_range=SA_TRAINIG_RANGE, schedule=schedule)"
   ]
  },
  {
   "cell_type": "code",
   "execution_count": 52,
   "id": "orange-location",
   "metadata": {},
   "outputs": [],
   "source": [
    "schedule = mlrose.GeomDecay(init_temp=1000, decay=0.90)\n",
    "sa_te3_d90 = run_sa(x_train_mm, y_train, epoch_range=SA_TRAINIG_RANGE, schedule=schedule)"
   ]
  },
  {
   "cell_type": "code",
   "execution_count": 53,
   "id": "controlling-employer",
   "metadata": {},
   "outputs": [],
   "source": [
    "# schedule = mlrose.GeomDecay(init_temp=100000, decay=0.80)\n",
    "# sa_te5_d80 = run_sa(x_train_mm, y_train, epoch_range=SA_TRAINIG_RANGE, schedule=schedule)"
   ]
  },
  {
   "cell_type": "code",
   "execution_count": 54,
   "id": "bearing-scottish",
   "metadata": {},
   "outputs": [],
   "source": [
    "# schedule = mlrose.GeomDecay(init_temp=1000, decay=0.80)\n",
    "# sa_te3_d80 = run_sa(x_train_mm, y_train, epoch_range=SA_TRAINIG_RANGE, schedule=schedule)"
   ]
  },
  {
   "cell_type": "code",
   "execution_count": 55,
   "id": "inappropriate-special",
   "metadata": {},
   "outputs": [],
   "source": [
    "schedule = mlrose.GeomDecay(init_temp=100000, decay=0.70)\n",
    "sa_te5_d70 = run_sa(x_train_mm, y_train, epoch_range=SA_TRAINIG_RANGE, schedule=schedule)"
   ]
  },
  {
   "cell_type": "code",
   "execution_count": 56,
   "id": "impaired-static",
   "metadata": {},
   "outputs": [],
   "source": [
    "schedule = mlrose.GeomDecay(init_temp=1000, decay=0.70)\n",
    "sa_te3_d70 = run_sa(x_train_mm, y_train, epoch_range=SA_TRAINIG_RANGE, schedule=schedule)"
   ]
  },
  {
   "cell_type": "code",
   "execution_count": 57,
   "id": "surrounded-warehouse",
   "metadata": {},
   "outputs": [],
   "source": [
    "# schedule = mlrose.GeomDecay(init_temp=1000, decay=0.50)\n",
    "# sa_te3_d50 = run_sa(x_train_mm, y_train, epoch_range=SA_TRAINIG_RANGE, schedule=schedule)"
   ]
  },
  {
   "cell_type": "code",
   "execution_count": 58,
   "id": "affecting-table",
   "metadata": {},
   "outputs": [],
   "source": [
    "# schedule = mlrose.GeomDecay(init_temp=100, decay=0.99)\n",
    "# sa_te1_d99 = run_sa(x_train_mm, y_train, epoch_range=SA_TRAINIG_RANGE, schedule=schedule)"
   ]
  },
  {
   "cell_type": "code",
   "execution_count": 64,
   "id": "pending-yukon",
   "metadata": {},
   "outputs": [
    {
     "data": {
      "image/png": "[encoded data removed]",
      "text/plain": [
       "<Figure size 432x288 with 1 Axes>"
      ]
     },
     "metadata": {
      "needs_background": "light"
     },
     "output_type": "display_data"
    }
   ],
   "source": [
    "plt.title(\"SA - Score vs Iterations\")\n",
    "plt.xlabel(\"Iterations\")\n",
    "plt.ylabel(\"Score\") \n",
    "\n",
    "# plt.plot(sa_te5_d96[\"Epoch\"], sa_te5_d96[\"Train_Score\"], label=\"sa_te5_d96\")\n",
    "# plt.plot(sa_te3_d96[\"Epoch\"], sa_te3_d96[\"Train_Score\"], label=\"sa_te3_d96\")\n",
    "plt.plot(sa_te5_d90[\"Epoch\"], sa_te5_d90[\"Train_Score\"], label=\"T=100k D=0.9\")\n",
    "plt.plot(sa_te3_d90[\"Epoch\"], sa_te3_d90[\"Train_Score\"], label=\"T=1k D=0.9\")\n",
    "# plt.plot(sa_te5_d80[\"Epoch\"], sa_te5_d80[\"Train_Score\"], label=\"sa_te5_d80\")\n",
    "# plt.plot(sa_te3_d80[\"Epoch\"], sa_te3_d80[\"Train_Score\"], label=\"sa_te3_d80\")\n",
    "plt.plot(sa_te5_d70[\"Epoch\"], sa_te5_d70[\"Train_Score\"], label=\"T=100k D=0.7\")\n",
    "plt.plot(sa_te3_d70[\"Epoch\"], sa_te3_d70[\"Train_Score\"], label=\"T=1k D=0.7\")\n",
    "# plt.plot(sa_te3_d50[\"Epoch\"], sa_te3_d50[\"Train_Score\"], label=\"sa_te3_d50\")\n",
    "\n",
    "plt.legend()\n",
    "plt.grid()\n",
    "plt.savefig('images/nn/sa_1.png')\n",
    "plt.show()"
   ]
  },
  {
   "cell_type": "code",
   "execution_count": null,
   "id": "young-mistake",
   "metadata": {},
   "outputs": [],
   "source": []
  },
  {
   "cell_type": "code",
   "execution_count": 65,
   "id": "right-afghanistan",
   "metadata": {},
   "outputs": [
    {
     "data": {
      "image/png": "[encoded data removed]",
      "text/plain": [
       "<Figure size 432x288 with 1 Axes>"
      ]
     },
     "metadata": {
      "needs_background": "light"
     },
     "output_type": "display_data"
    }
   ],
   "source": [
    "plt.title(\"SA - Score vs Iterations (Zoomed In)\")\n",
    "plt.xlabel(\"Iterations\")\n",
    "plt.ylabel(\"Score\") \n",
    "\n",
    "b = 15\n",
    "e = 25\n",
    "\n",
    "# plt.plot(sa_te5_d96[b:e][\"Epoch\"], sa_te5_d96[b:e][\"Train_Score\"], label=\"sa_te5_d96\")\n",
    "# plt.plot(sa_te3_d96[b:e][\"Epoch\"], sa_te3_d96[b:e][\"Train_Score\"], label=\"sa_te3_d96\")\n",
    "plt.plot(sa_te5_d90[b:e][\"Epoch\"], sa_te5_d90[b:e][\"Train_Score\"], label=\"T=100k D=0.9\")\n",
    "plt.plot(sa_te3_d90[b:e][\"Epoch\"], sa_te3_d90[b:e][\"Train_Score\"], label=\"T=1k D=0.9\")\n",
    "# plt.plot(sa_te5_d80[b:e][\"Epoch\"], sa_te5_d80[b:e][\"Train_Score\"], label=\"sa_te5_d80\")\n",
    "# plt.plot(sa_te3_d80[b:e][\"Epoch\"], sa_te3_d80[b:e][\"Train_Score\"], label=\"sa_te3_d80\")\n",
    "plt.plot(sa_te5_d70[b:e][\"Epoch\"], sa_te5_d70[b:e][\"Train_Score\"], label=\"T=100k D=0.7\")\n",
    "plt.plot(sa_te3_d70[b:e][\"Epoch\"], sa_te3_d70[b:e][\"Train_Score\"], label=\"T=1k D=0.7\")\n",
    "# plt.plot(sa_te3_d50[b:e][\"Epoch\"], sa_te3_d50[b:e][\"Train_Score\"], label=\"sa_te3_d50\")\n",
    "\n",
    "plt.legend()\n",
    "plt.grid()\n",
    "plt.savefig('images/nn/sa_1_zoomed.png')\n",
    "plt.show()"
   ]
  },
  {
   "cell_type": "code",
   "execution_count": 66,
   "id": "understanding-collective",
   "metadata": {},
   "outputs": [
    {
     "data": {
      "image/png": "[encoded data removed]",
      "text/plain": [
       "<Figure size 432x288 with 1 Axes>"
      ]
     },
     "metadata": {
      "needs_background": "light"
     },
     "output_type": "display_data"
    }
   ],
   "source": [
    "plt.title(\"SA - Time vs Iterations\")\n",
    "plt.xlabel(\"Iterations\")\n",
    "plt.ylabel(\"Time (Seconds)\") \n",
    "\n",
    "b = 15\n",
    "e = 25\n",
    "\n",
    "# plt.plot(sa_te5_d96[b:e][\"Epoch\"], sa_te5_d96[b:e][\"Train_Time\"], label=\"sa_te5_d96\")\n",
    "# plt.plot(sa_te3_d96[b:e][\"Epoch\"], sa_te3_d96[b:e][\"Train_Time\"], label=\"sa_te3_d96\")\n",
    "plt.plot(sa_te5_d90[b:e][\"Epoch\"], sa_te5_d90[b:e][\"Train_Time\"], label=\"T=100k D=0.9\")\n",
    "plt.plot(sa_te3_d90[b:e][\"Epoch\"], sa_te3_d90[b:e][\"Train_Time\"], label=\"T=1k D=0.9\")\n",
    "# plt.plot(sa_te5_d80[b:e][\"Epoch\"], sa_te5_d80[b:e][\"Train_Time\"], label=\"sa_te5_d80\")\n",
    "# plt.plot(sa_te3_d80[b:e][\"Epoch\"], sa_te3_d80[b:e][\"Train_Time\"], label=\"sa_te3_d80\")\n",
    "plt.plot(sa_te5_d70[b:e][\"Epoch\"], sa_te5_d70[b:e][\"Train_Time\"], label=\"T=100k D=0.7\")\n",
    "plt.plot(sa_te3_d70[b:e][\"Epoch\"], sa_te3_d70[b:e][\"Train_Time\"], label=\"T=1k D=0.7\")\n",
    "# plt.plot(sa_te3_d50[b:e][\"Epoch\"], sa_te3_d50[b:e][\"Train_Time\"], label=\"sa_te3_d50\")\n",
    "\n",
    "plt.legend()\n",
    "plt.grid()\n",
    "plt.savefig('images/nn/sa_2.png')\n",
    "plt.show()"
   ]
  },
  {
   "cell_type": "code",
   "execution_count": null,
   "id": "known-disclosure",
   "metadata": {},
   "outputs": [],
   "source": []
  },
  {
   "cell_type": "code",
   "execution_count": 68,
   "id": "passing-hearts",
   "metadata": {},
   "outputs": [
    {
     "data": {
      "text/html": [
       "<div>\n",
       "<style scoped>\n",
       "    .dataframe tbody tr th:only-of-type {\n",
       "        vertical-align: middle;\n",
       "    }\n",
       "\n",
       "    .dataframe tbody tr th {\n",
       "        vertical-align: top;\n",
       "    }\n",
       "\n",
       "    .dataframe thead th {\n",
       "        text-align: right;\n",
       "    }\n",
       "</style>\n",
       "<table border=\"1\" class=\"dataframe\">\n",
       "  <thead>\n",
       "    <tr style=\"text-align: right;\">\n",
       "      <th></th>\n",
       "      <th>Epoch</th>\n",
       "      <th>Train_Score</th>\n",
       "      <th>Train_Time</th>\n",
       "    </tr>\n",
       "  </thead>\n",
       "  <tbody>\n",
       "    <tr>\n",
       "      <th>0</th>\n",
       "      <td>1</td>\n",
       "      <td>0.517588</td>\n",
       "      <td>0.024690</td>\n",
       "    </tr>\n",
       "    <tr>\n",
       "      <th>1</th>\n",
       "      <td>2</td>\n",
       "      <td>0.517588</td>\n",
       "      <td>0.010434</td>\n",
       "    </tr>\n",
       "    <tr>\n",
       "      <th>2</th>\n",
       "      <td>4</td>\n",
       "      <td>0.517588</td>\n",
       "      <td>0.012771</td>\n",
       "    </tr>\n",
       "    <tr>\n",
       "      <th>3</th>\n",
       "      <td>8</td>\n",
       "      <td>0.517588</td>\n",
       "      <td>0.023757</td>\n",
       "    </tr>\n",
       "    <tr>\n",
       "      <th>4</th>\n",
       "      <td>16</td>\n",
       "      <td>0.517588</td>\n",
       "      <td>0.048832</td>\n",
       "    </tr>\n",
       "    <tr>\n",
       "      <th>5</th>\n",
       "      <td>32</td>\n",
       "      <td>0.515075</td>\n",
       "      <td>0.110234</td>\n",
       "    </tr>\n",
       "    <tr>\n",
       "      <th>6</th>\n",
       "      <td>64</td>\n",
       "      <td>0.517588</td>\n",
       "      <td>0.195489</td>\n",
       "    </tr>\n",
       "    <tr>\n",
       "      <th>7</th>\n",
       "      <td>128</td>\n",
       "      <td>0.517588</td>\n",
       "      <td>0.370146</td>\n",
       "    </tr>\n",
       "    <tr>\n",
       "      <th>8</th>\n",
       "      <td>256</td>\n",
       "      <td>0.527638</td>\n",
       "      <td>0.726305</td>\n",
       "    </tr>\n",
       "    <tr>\n",
       "      <th>9</th>\n",
       "      <td>512</td>\n",
       "      <td>0.537688</td>\n",
       "      <td>1.512042</td>\n",
       "    </tr>\n",
       "    <tr>\n",
       "      <th>10</th>\n",
       "      <td>1024</td>\n",
       "      <td>0.560302</td>\n",
       "      <td>2.957832</td>\n",
       "    </tr>\n",
       "    <tr>\n",
       "      <th>11</th>\n",
       "      <td>2048</td>\n",
       "      <td>0.638191</td>\n",
       "      <td>6.299898</td>\n",
       "    </tr>\n",
       "    <tr>\n",
       "      <th>12</th>\n",
       "      <td>4096</td>\n",
       "      <td>0.670854</td>\n",
       "      <td>12.036733</td>\n",
       "    </tr>\n",
       "    <tr>\n",
       "      <th>13</th>\n",
       "      <td>8192</td>\n",
       "      <td>0.766332</td>\n",
       "      <td>23.642039</td>\n",
       "    </tr>\n",
       "    <tr>\n",
       "      <th>14</th>\n",
       "      <td>16384</td>\n",
       "      <td>0.834171</td>\n",
       "      <td>47.896897</td>\n",
       "    </tr>\n",
       "    <tr>\n",
       "      <th>15</th>\n",
       "      <td>25000</td>\n",
       "      <td>0.866834</td>\n",
       "      <td>73.850053</td>\n",
       "    </tr>\n",
       "    <tr>\n",
       "      <th>16</th>\n",
       "      <td>35000</td>\n",
       "      <td>0.886935</td>\n",
       "      <td>102.954829</td>\n",
       "    </tr>\n",
       "    <tr>\n",
       "      <th>17</th>\n",
       "      <td>45000</td>\n",
       "      <td>0.904523</td>\n",
       "      <td>131.791398</td>\n",
       "    </tr>\n",
       "    <tr>\n",
       "      <th>18</th>\n",
       "      <td>55000</td>\n",
       "      <td>0.902010</td>\n",
       "      <td>161.034787</td>\n",
       "    </tr>\n",
       "    <tr>\n",
       "      <th>19</th>\n",
       "      <td>65000</td>\n",
       "      <td>0.899497</td>\n",
       "      <td>191.549007</td>\n",
       "    </tr>\n",
       "  </tbody>\n",
       "</table>\n",
       "</div>"
      ],
      "text/plain": [
       "    Epoch  Train_Score  Train_Time\n",
       "0       1     0.517588    0.024690\n",
       "1       2     0.517588    0.010434\n",
       "2       4     0.517588    0.012771\n",
       "3       8     0.517588    0.023757\n",
       "4      16     0.517588    0.048832\n",
       "5      32     0.515075    0.110234\n",
       "6      64     0.517588    0.195489\n",
       "7     128     0.517588    0.370146\n",
       "8     256     0.527638    0.726305\n",
       "9     512     0.537688    1.512042\n",
       "10   1024     0.560302    2.957832\n",
       "11   2048     0.638191    6.299898\n",
       "12   4096     0.670854   12.036733\n",
       "13   8192     0.766332   23.642039\n",
       "14  16384     0.834171   47.896897\n",
       "15  25000     0.866834   73.850053\n",
       "16  35000     0.886935  102.954829\n",
       "17  45000     0.904523  131.791398\n",
       "18  55000     0.902010  161.034787\n",
       "19  65000     0.899497  191.549007"
      ]
     },
     "execution_count": 68,
     "metadata": {},
     "output_type": "execute_result"
    }
   ],
   "source": [
    "sa_te5_d70"
   ]
  },
  {
   "cell_type": "code",
   "execution_count": null,
   "id": "baking-miami",
   "metadata": {},
   "outputs": [],
   "source": []
  },
  {
   "cell_type": "markdown",
   "id": "supported-shepherd",
   "metadata": {},
   "source": [
    "### GA Alog (Genetic)"
   ]
  },
  {
   "cell_type": "code",
   "execution_count": 71,
   "id": "prerequisite-preparation",
   "metadata": {},
   "outputs": [],
   "source": [
    "def run_ga(X,y, epoch_range, pop_size=None, mutation_prob=None):\n",
    "    if not pop_size:\n",
    "        print(\"ERROR: Please provide a pop_size\")\n",
    "        return\n",
    "    \n",
    "    if not mutation_prob:\n",
    "        print(\"ERROR: Please provide a mutation_prob\")\n",
    "        return\n",
    "    \n",
    "    # epoch, train score, train time\n",
    "    data = []\n",
    "    \n",
    "    for epoch in epoch_range:\n",
    "        if str(type(epoch)) == str(np.int64):\n",
    "            epoch = int(epoch)\n",
    "        \n",
    "        nn_model = mlrose.NeuralNetwork(\n",
    "            hidden_nodes=[12, 12],\n",
    "            activation='relu',\n",
    "            algorithm='genetic_alg',\n",
    "            max_iters=epoch,\n",
    "            bias=True,\n",
    "            is_classifier=True,\n",
    "            learning_rate=0.006,\n",
    "            early_stopping=True,\n",
    "            clip_max=1,\n",
    "            max_attempts=100,\n",
    "            random_state=52,\n",
    "            pop_size=pop_size,\n",
    "            mutation_prob=mutation_prob\n",
    "        )\n",
    "        ts = time.time()\n",
    "        \n",
    "        nn_model.fit(X, y)\n",
    "    \n",
    "        te = time.time()\n",
    "        \n",
    "        train_score= nn_model.score(X, y)\n",
    "        \n",
    "        row = [epoch, train_score, (te-ts)]\n",
    "        data.append(row)\n",
    "        \n",
    "    df = pd.DataFrame(data, columns=['Epoch', 'Train_Score', 'Train_Time'])\n",
    "    return df"
   ]
  },
  {
   "cell_type": "code",
   "execution_count": null,
   "id": "metropolitan-algeria",
   "metadata": {},
   "outputs": [],
   "source": []
  },
  {
   "cell_type": "code",
   "execution_count": null,
   "id": "relative-minister",
   "metadata": {},
   "outputs": [],
   "source": []
  },
  {
   "cell_type": "code",
   "execution_count": null,
   "id": "minimal-recipient",
   "metadata": {},
   "outputs": [],
   "source": []
  },
  {
   "cell_type": "code",
   "execution_count": null,
   "id": "romance-departure",
   "metadata": {},
   "outputs": [],
   "source": []
  },
  {
   "cell_type": "code",
   "execution_count": 72,
   "id": "baking-language",
   "metadata": {},
   "outputs": [
    {
     "data": {
      "text/plain": [
       "array([   1,    2,    4,    8,   16,   32,   64,  128,  256,  512, 1024])"
      ]
     },
     "execution_count": 72,
     "metadata": {},
     "output_type": "execute_result"
    }
   ],
   "source": [
    "# GA_TRAINIG_RANGE = np.array([1, 2, 4, 8, 16, 32, 64, 128, 256, 512, 1024, 2048, 4096, 8192, 16384, 20000, 25000, 30000, 35000, 40000, 45000, 50000, 55000, 60000, 65000, 70000])\n",
    "GA_TRAINIG_RANGE = np.array([1, 2, 4, 8, 16, 32, 64, 128, 256, 512, 1024])\n",
    "GA_TRAINIG_RANGE"
   ]
  },
  {
   "cell_type": "code",
   "execution_count": 73,
   "id": "similar-scout",
   "metadata": {},
   "outputs": [],
   "source": [
    "pop_size = 10\n",
    "mutation_prob = 0.1\n",
    "\n",
    "ga_p10_m10 = run_ga(x_train_mm, y_train, epoch_range=GA_TRAINIG_RANGE, pop_size=pop_size, mutation_prob=mutation_prob)"
   ]
  },
  {
   "cell_type": "code",
   "execution_count": 74,
   "id": "competitive-miniature",
   "metadata": {},
   "outputs": [],
   "source": [
    "pop_size = 20\n",
    "mutation_prob = 0.25\n",
    "\n",
    "ga_p20_m25 = run_ga(x_train_mm, y_train, epoch_range=GA_TRAINIG_RANGE, pop_size=pop_size, mutation_prob=mutation_prob)"
   ]
  },
  {
   "cell_type": "code",
   "execution_count": 75,
   "id": "excessive-maine",
   "metadata": {},
   "outputs": [],
   "source": [
    "# pop_size = 20\n",
    "# mutation_prob = 0.5\n",
    "\n",
    "# ga_p20_m50 = run_ga(x_train_mm, y_train, epoch_range=GA_TRAINIG_RANGE, pop_size=pop_size, mutation_prob=mutation_prob)"
   ]
  },
  {
   "cell_type": "code",
   "execution_count": null,
   "id": "architectural-bristol",
   "metadata": {},
   "outputs": [],
   "source": []
  },
  {
   "cell_type": "code",
   "execution_count": null,
   "id": "competitive-affairs",
   "metadata": {},
   "outputs": [],
   "source": []
  },
  {
   "cell_type": "code",
   "execution_count": 76,
   "id": "annual-fancy",
   "metadata": {},
   "outputs": [],
   "source": [
    "# pop_size = 50\n",
    "# mutation_prob = 0.1\n",
    "\n",
    "# ga_p50_m10 = run_ga(x_train_mm, y_train, epoch_range=GA_TRAINIG_RANGE, pop_size=pop_size, mutation_prob=mutation_prob)"
   ]
  },
  {
   "cell_type": "code",
   "execution_count": 77,
   "id": "gross-architect",
   "metadata": {},
   "outputs": [],
   "source": [
    "pop_size = 50\n",
    "mutation_prob = 0.25\n",
    "\n",
    "ga_p50_m25 = run_ga(x_train_mm, y_train, epoch_range=GA_TRAINIG_RANGE, pop_size=pop_size, mutation_prob=mutation_prob)"
   ]
  },
  {
   "cell_type": "code",
   "execution_count": 78,
   "id": "saving-receptor",
   "metadata": {},
   "outputs": [],
   "source": [
    "pop_size = 50\n",
    "mutation_prob = 0.5\n",
    "\n",
    "ga_p50_m50 = run_ga(x_train_mm, y_train, epoch_range=GA_TRAINIG_RANGE, pop_size=pop_size, mutation_prob=mutation_prob)"
   ]
  },
  {
   "cell_type": "code",
   "execution_count": 79,
   "id": "split-phoenix",
   "metadata": {},
   "outputs": [],
   "source": [
    "# pop_size = 50\n",
    "# mutation_prob = 0.75\n",
    "\n",
    "# ga_p50_m75 = run_ga(x_train_mm, y_train, epoch_range=GA_TRAINIG_RANGE, pop_size=pop_size, mutation_prob=mutation_prob)"
   ]
  },
  {
   "cell_type": "code",
   "execution_count": null,
   "id": "amber-amber",
   "metadata": {},
   "outputs": [],
   "source": []
  },
  {
   "cell_type": "code",
   "execution_count": 80,
   "id": "featured-range",
   "metadata": {},
   "outputs": [],
   "source": [
    "# pop_size = 100\n",
    "# mutation_prob = 0.1\n",
    "\n",
    "# ga_p100_m10 = run_ga(x_train_mm, y_train, epoch_range=GA_TRAINIG_RANGE, pop_size=pop_size, mutation_prob=mutation_prob)"
   ]
  },
  {
   "cell_type": "code",
   "execution_count": 81,
   "id": "present-pierce",
   "metadata": {},
   "outputs": [],
   "source": [
    "# pop_size = 100\n",
    "# mutation_prob = 0.25\n",
    "\n",
    "# ga_p100_m25 = run_ga(x_train_mm, y_train, epoch_range=GA_TRAINIG_RANGE, pop_size=pop_size, mutation_prob=mutation_prob)"
   ]
  },
  {
   "cell_type": "code",
   "execution_count": 82,
   "id": "resident-struggle",
   "metadata": {},
   "outputs": [],
   "source": [
    "pop_size = 100\n",
    "mutation_prob = 0.5\n",
    "\n",
    "ga_p100_m50 = run_ga(x_train_mm, y_train, epoch_range=GA_TRAINIG_RANGE, pop_size=pop_size, mutation_prob=mutation_prob)"
   ]
  },
  {
   "cell_type": "code",
   "execution_count": 83,
   "id": "bright-kazakhstan",
   "metadata": {},
   "outputs": [],
   "source": [
    "# pop_size = 100\n",
    "# mutation_prob = 0.75\n",
    "\n",
    "# ga_p100_m75 = run_ga(x_train_mm, y_train, epoch_range=GA_TRAINIG_RANGE, pop_size=pop_size, mutation_prob=mutation_prob)"
   ]
  },
  {
   "cell_type": "code",
   "execution_count": null,
   "id": "confident-festival",
   "metadata": {},
   "outputs": [],
   "source": []
  },
  {
   "cell_type": "code",
   "execution_count": null,
   "id": "hungarian-paradise",
   "metadata": {},
   "outputs": [],
   "source": []
  },
  {
   "cell_type": "code",
   "execution_count": 95,
   "id": "radical-avatar",
   "metadata": {},
   "outputs": [
    {
     "data": {
      "image/png": "[encoded data removed]",
      "text/plain": [
       "<Figure size 432x288 with 1 Axes>"
      ]
     },
     "metadata": {
      "needs_background": "light"
     },
     "output_type": "display_data"
    }
   ],
   "source": [
    "plt.title(\"GA - Score vs Iterations\")\n",
    "plt.xlabel(\"Iterations\")\n",
    "plt.ylabel(\"Score\") \n",
    "\n",
    "b=0\n",
    "e=11\n",
    "\n",
    "plt.plot(ga_p10_m10[b:e][\"Epoch\"], ga_p10_m10[b:e][\"Train_Score\"], label=\"P=10 m=0.1\")\n",
    "plt.plot(ga_p20_m25[b:e][\"Epoch\"], ga_p20_m25[b:e][\"Train_Score\"], label=\"P=20 m=0.25\")\n",
    "# plt.plot(ga_p20_m50[b:e][\"Epoch\"], ga_p20_m50[b:e][\"Train_Score\"], label=\"pop=20 m=50\")\n",
    "\n",
    "# plt.plot(ga_p50_m10[b:e][\"Epoch\"], ga_p50_m10[b:e][\"Train_Score\"], label=\"pop=50 m=10\")\n",
    "plt.plot(ga_p50_m25[b:e][\"Epoch\"], ga_p50_m25[b:e][\"Train_Score\"], label=\"P=50 m=0.25\")\n",
    "# plt.plot(ga_p50_m50[b:e][\"Epoch\"], ga_p50_m50[b:e][\"Train_Score\"], label=\"P=50 m=50\")\n",
    "# plt.plot(ga_p50_m75[b:e][\"Epoch\"], ga_p50_m75[b:e][\"Train_Score\"], label=\"pop=50 m=75\")\n",
    "\n",
    "plt.plot(ga_p100_m50[b:e][\"Epoch\"], ga_p50_m50[b:e][\"Train_Score\"], label=\"P=100 m=0.5\")\n",
    "\n",
    "plt.legend()\n",
    "plt.grid()\n",
    "plt.savefig('images/nn/ga_1.png')\n",
    "plt.show()"
   ]
  },
  {
   "cell_type": "code",
   "execution_count": 86,
   "id": "missing-characterization",
   "metadata": {},
   "outputs": [
    {
     "data": {
      "text/html": [
       "<div>\n",
       "<style scoped>\n",
       "    .dataframe tbody tr th:only-of-type {\n",
       "        vertical-align: middle;\n",
       "    }\n",
       "\n",
       "    .dataframe tbody tr th {\n",
       "        vertical-align: top;\n",
       "    }\n",
       "\n",
       "    .dataframe thead th {\n",
       "        text-align: right;\n",
       "    }\n",
       "</style>\n",
       "<table border=\"1\" class=\"dataframe\">\n",
       "  <thead>\n",
       "    <tr style=\"text-align: right;\">\n",
       "      <th></th>\n",
       "      <th>Epoch</th>\n",
       "      <th>Train_Score</th>\n",
       "      <th>Train_Time</th>\n",
       "    </tr>\n",
       "  </thead>\n",
       "  <tbody>\n",
       "    <tr>\n",
       "      <th>0</th>\n",
       "      <td>1</td>\n",
       "      <td>0.751256</td>\n",
       "      <td>0.063266</td>\n",
       "    </tr>\n",
       "    <tr>\n",
       "      <th>1</th>\n",
       "      <td>2</td>\n",
       "      <td>0.751256</td>\n",
       "      <td>0.058437</td>\n",
       "    </tr>\n",
       "    <tr>\n",
       "      <th>2</th>\n",
       "      <td>4</td>\n",
       "      <td>0.751256</td>\n",
       "      <td>0.067200</td>\n",
       "    </tr>\n",
       "    <tr>\n",
       "      <th>3</th>\n",
       "      <td>8</td>\n",
       "      <td>0.751256</td>\n",
       "      <td>0.143971</td>\n",
       "    </tr>\n",
       "    <tr>\n",
       "      <th>4</th>\n",
       "      <td>16</td>\n",
       "      <td>0.869347</td>\n",
       "      <td>0.389971</td>\n",
       "    </tr>\n",
       "    <tr>\n",
       "      <th>5</th>\n",
       "      <td>32</td>\n",
       "      <td>0.874372</td>\n",
       "      <td>0.705783</td>\n",
       "    </tr>\n",
       "    <tr>\n",
       "      <th>6</th>\n",
       "      <td>64</td>\n",
       "      <td>0.891960</td>\n",
       "      <td>1.175155</td>\n",
       "    </tr>\n",
       "    <tr>\n",
       "      <th>7</th>\n",
       "      <td>128</td>\n",
       "      <td>0.927136</td>\n",
       "      <td>2.243573</td>\n",
       "    </tr>\n",
       "    <tr>\n",
       "      <th>8</th>\n",
       "      <td>256</td>\n",
       "      <td>0.932161</td>\n",
       "      <td>4.634460</td>\n",
       "    </tr>\n",
       "    <tr>\n",
       "      <th>9</th>\n",
       "      <td>512</td>\n",
       "      <td>0.932161</td>\n",
       "      <td>4.965805</td>\n",
       "    </tr>\n",
       "    <tr>\n",
       "      <th>10</th>\n",
       "      <td>1024</td>\n",
       "      <td>0.932161</td>\n",
       "      <td>4.880768</td>\n",
       "    </tr>\n",
       "  </tbody>\n",
       "</table>\n",
       "</div>"
      ],
      "text/plain": [
       "    Epoch  Train_Score  Train_Time\n",
       "0       1     0.751256    0.063266\n",
       "1       2     0.751256    0.058437\n",
       "2       4     0.751256    0.067200\n",
       "3       8     0.751256    0.143971\n",
       "4      16     0.869347    0.389971\n",
       "5      32     0.874372    0.705783\n",
       "6      64     0.891960    1.175155\n",
       "7     128     0.927136    2.243573\n",
       "8     256     0.932161    4.634460\n",
       "9     512     0.932161    4.965805\n",
       "10   1024     0.932161    4.880768"
      ]
     },
     "execution_count": 86,
     "metadata": {},
     "output_type": "execute_result"
    }
   ],
   "source": [
    "ga_p10_m10"
   ]
  },
  {
   "cell_type": "code",
   "execution_count": null,
   "id": "affected-senate",
   "metadata": {},
   "outputs": [],
   "source": []
  },
  {
   "cell_type": "code",
   "execution_count": 96,
   "id": "representative-failure",
   "metadata": {},
   "outputs": [
    {
     "data": {
      "image/png": "[encoded data removed]",
      "text/plain": [
       "<Figure size 432x288 with 1 Axes>"
      ]
     },
     "metadata": {
      "needs_background": "light"
     },
     "output_type": "display_data"
    }
   ],
   "source": [
    "plt.title(\"Time vs Iterations\")\n",
    "plt.xlabel(\"Iterations\")\n",
    "plt.ylabel(\"Time (Seconds)\") \n",
    "\n",
    "b=0\n",
    "e=11\n",
    "\n",
    "plt.plot(ga_p10_m10[b:e][\"Epoch\"], ga_p10_m10[b:e][\"Train_Time\"], label=\"P=10 m=0.1\")\n",
    "plt.plot(ga_p20_m25[b:e][\"Epoch\"], ga_p20_m25[b:e][\"Train_Time\"], label=\"P=20 m=0.25\")\n",
    "plt.plot(ga_p50_m25[b:e][\"Epoch\"], ga_p50_m25[b:e][\"Train_Time\"], label=\"P=50 m=0.25\")\n",
    "plt.plot(ga_p100_m50[b:e][\"Epoch\"], ga_p50_m50[b:e][\"Train_Time\"], label=\"P=100 m=0.5\")\n",
    "\n",
    "plt.legend()\n",
    "plt.grid()\n",
    "plt.savefig('images/nn/ga_2.png')\n",
    "plt.show()"
   ]
  },
  {
   "cell_type": "code",
   "execution_count": null,
   "id": "academic-intent",
   "metadata": {},
   "outputs": [],
   "source": []
  },
  {
   "cell_type": "markdown",
   "id": "taken-homework",
   "metadata": {},
   "source": [
    "# Comparison"
   ]
  },
  {
   "cell_type": "markdown",
   "id": "secure-rhythm",
   "metadata": {},
   "source": [
    "\n",
    "Algo | Score | Time| Iterations\n",
    "--- | --- | --- | ---\n",
    "Gradient Descent | 0.942211 | 0.934598| 256\n",
    "RHC | 0.939698 | 37.665653| 16384\n",
    "SA | 0.904523 | 131.791398| 45000\n",
    "GA | 0.932161 | 4.634460| 256\n"
   ]
  },
  {
   "cell_type": "code",
   "execution_count": null,
   "id": "dominant-constant",
   "metadata": {},
   "outputs": [],
   "source": [
    "# - Gradient Descent: score=0.942211, time=0.934598,   iterations=256\n",
    "# - RHC:              score=0.939698, time=37.665653,  iterations=16384\n",
    "# - SA:               score=0.904523, time=131.791398, iterations=45000\n",
    "# - GA:               score=0.932161, time=4.634460,   iterations=256\n"
   ]
  },
  {
   "cell_type": "code",
   "execution_count": 97,
   "id": "charged-field",
   "metadata": {},
   "outputs": [],
   "source": []
  },
  {
   "cell_type": "code",
   "execution_count": 123,
   "id": "gorgeous-shannon",
   "metadata": {},
   "outputs": [
    {
     "data": {
      "image/png": "[encoded data removed]",
      "text/plain": [
       "<Figure size 432x288 with 1 Axes>"
      ]
     },
     "metadata": {
      "needs_background": "light"
     },
     "output_type": "display_data"
    }
   ],
   "source": [
    "x_labels = [\"Gradient Descent\", \"RHC\", \"SA\", \"GA\"]\n",
    "y_values = [0.942211, 0.939698, 0.904523, 0.932161]\n",
    "\n",
    "plt.title(\"Comparison: Best Scores\")\n",
    "plt.ylabel(\"Best Score\") \n",
    "\n",
    "bars = plt.bar(x_labels, y_values, width=0.5)\n",
    "\n",
    "bars[0].set_color('green')\n",
    "bars[1].set_color('tab:blue')\n",
    "bars[2].set_color('tab:purple')\n",
    "bars[3].set_color('tab:orange')\n",
    "\n",
    "for rect in bars:\n",
    "    height = rect.get_height()\n",
    "    plt.text(rect.get_x() + rect.get_width()/2.0, height, (\"%.3f\" % height), ha='center', va='bottom')\n",
    "\n",
    "\n",
    "plt.savefig('images/nn/best_scores.png')\n",
    "plt.show()"
   ]
  },
  {
   "cell_type": "code",
   "execution_count": null,
   "id": "collaborative-mistake",
   "metadata": {},
   "outputs": [],
   "source": []
  },
  {
   "cell_type": "code",
   "execution_count": 124,
   "id": "interesting-adjustment",
   "metadata": {},
   "outputs": [
    {
     "data": {
      "image/png": "[encoded data removed]",
      "text/plain": [
       "<Figure size 432x288 with 1 Axes>"
      ]
     },
     "metadata": {
      "needs_background": "light"
     },
     "output_type": "display_data"
    }
   ],
   "source": [
    "x_labels = [\"Gradient Descent\", \"RHC\", \"SA\", \"GA\"]\n",
    "y_values = [0.934598, 37.665653, 131.791398, 4.634460]\n",
    "\n",
    "plt.title(\"Comparison: Time\")\n",
    "plt.ylabel(\"Time (Seconds)\") \n",
    "\n",
    "bars = plt.bar(x_labels, y_values, width=0.5)\n",
    "\n",
    "bars[0].set_color('green')\n",
    "bars[1].set_color('tab:blue')\n",
    "bars[2].set_color('tab:purple')\n",
    "bars[3].set_color('tab:orange')\n",
    "\n",
    "for rect in bars:\n",
    "    height = rect.get_height()\n",
    "    plt.text(rect.get_x() + rect.get_width()/2.0, height, (\"%.3f\" % height) + \"s\", ha='center', va='bottom')\n",
    "\n",
    "plt.savefig('images/nn/best_times.png')\n",
    "plt.show()"
   ]
  },
  {
   "cell_type": "code",
   "execution_count": null,
   "id": "encouraging-advancement",
   "metadata": {},
   "outputs": [],
   "source": []
  }
 ],
 "metadata": {
  "kernelspec": {
   "display_name": "Python 3",
   "language": "python",
   "name": "python3"
  },
  "language_info": {
   "codemirror_mode": {
    "name": "ipython",
    "version": 3
   },
   "file_extension": ".py",
   "mimetype": "text/x-python",
   "name": "python",
   "nbconvert_exporter": "python",
   "pygments_lexer": "ipython3",
   "version": "3.6.12"
  }
 },
 "nbformat": 4,
 "nbformat_minor": 5
}
